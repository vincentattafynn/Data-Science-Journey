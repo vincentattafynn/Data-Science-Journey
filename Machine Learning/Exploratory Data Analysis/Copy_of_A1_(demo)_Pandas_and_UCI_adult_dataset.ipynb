{
  "cells": [
    {
      "cell_type": "markdown",
      "metadata": {
        "id": "view-in-github",
        "colab_type": "text"
      },
      "source": [
        "<a href=\"https://colab.research.google.com/github/vincentattafynn/Data-Science-Journey/blob/main/Machine%20Learning/Exploratory%20Data%20Analysis/Copy_of_A1_(demo)_Pandas_and_UCI_adult_dataset.ipynb\" target=\"_parent\"><img src=\"https://colab.research.google.com/assets/colab-badge.svg\" alt=\"Open In Colab\"/></a>"
      ]
    },
    {
      "source": [
        "\n",
        "# IMPORTANT: RUN THIS CELL IN ORDER TO IMPORT YOUR KAGGLE DATA SOURCES\n",
        "# TO THE CORRECT LOCATION (/kaggle/input) IN YOUR NOTEBOOK,\n",
        "# THEN FEEL FREE TO DELETE THIS CELL.\n",
        "# NOTE: THIS NOTEBOOK ENVIRONMENT DIFFERS FROM KAGGLE'S PYTHON\n",
        "# ENVIRONMENT SO THERE MAY BE MISSING LIBRARIES USED BY YOUR\n",
        "# NOTEBOOK.\n",
        "\n",
        "import os\n",
        "import sys\n",
        "from tempfile import NamedTemporaryFile\n",
        "from urllib.request import urlopen\n",
        "from urllib.parse import unquote, urlparse\n",
        "from urllib.error import HTTPError\n",
        "from zipfile import ZipFile\n",
        "import tarfile\n",
        "import shutil\n",
        "\n",
        "CHUNK_SIZE = 40960\n",
        "DATA_SOURCE_MAPPING = ':https%3A%2F%2Fstorage.googleapis.com%2Fkaggle-data-sets%2F32132%2F84415%2Fbundle%2Farchive.zip%3FX-Goog-Algorithm%3DGOOG4-RSA-SHA256%26X-Goog-Credential%3Dgcp-kaggle-com%2540kaggle-161607.iam.gserviceaccount.com%252F20240925%252Fauto%252Fstorage%252Fgoog4_request%26X-Goog-Date%3D20240925T224919Z%26X-Goog-Expires%3D259200%26X-Goog-SignedHeaders%3Dhost%26X-Goog-Signature%3Dcdb12bbc6c599ff2f5980ba205b97a369a6a460c727e4a78b601778186fccfe1dc5fea51c78e4206405c326912b0e5640fdeed64843ffb8d53bb3119a85febd70bd3e579492c7e3777387d3467bf80c7712f5c23ccf60d9ea8c9636caeb57d38dac99ebd3769d7314c2dfe88ba07669a2ceabc849c3dcd41b27978fb28feb52a8c7479b8fde3e20806fdae32ed3d1ef5b78581a60d509997c8314d840d6ff18edc26525aaf51c88e220f27ab536f1eb734b4f3cddcae41e0c103197eac73fea1da80decbf2142e77d2441e6935672ebddad7d39491062be8ba8bb48bd92b5dbfb550cbf07276cbe8f32adf7d969f42c1ebfeda6a4e5668bebad1c1e89e8ec0b5'\n",
        "\n",
        "KAGGLE_INPUT_PATH='/kaggle/input'\n",
        "KAGGLE_WORKING_PATH='/kaggle/working'\n",
        "KAGGLE_SYMLINK='kaggle'\n",
        "\n",
        "!umount /kaggle/input/ 2> /dev/null\n",
        "shutil.rmtree('/kaggle/input', ignore_errors=True)\n",
        "os.makedirs(KAGGLE_INPUT_PATH, 0o777, exist_ok=True)\n",
        "os.makedirs(KAGGLE_WORKING_PATH, 0o777, exist_ok=True)\n",
        "\n",
        "try:\n",
        "  os.symlink(KAGGLE_INPUT_PATH, os.path.join(\"..\", 'input'), target_is_directory=True)\n",
        "except FileExistsError:\n",
        "  pass\n",
        "try:\n",
        "  os.symlink(KAGGLE_WORKING_PATH, os.path.join(\"..\", 'working'), target_is_directory=True)\n",
        "except FileExistsError:\n",
        "  pass\n",
        "\n",
        "for data_source_mapping in DATA_SOURCE_MAPPING.split(','):\n",
        "    directory, download_url_encoded = data_source_mapping.split(':')\n",
        "    download_url = unquote(download_url_encoded)\n",
        "    filename = urlparse(download_url).path\n",
        "    destination_path = os.path.join(KAGGLE_INPUT_PATH, directory)\n",
        "    try:\n",
        "        with urlopen(download_url) as fileres, NamedTemporaryFile() as tfile:\n",
        "            total_length = fileres.headers['content-length']\n",
        "            print(f'Downloading {directory}, {total_length} bytes compressed')\n",
        "            dl = 0\n",
        "            data = fileres.read(CHUNK_SIZE)\n",
        "            while len(data) > 0:\n",
        "                dl += len(data)\n",
        "                tfile.write(data)\n",
        "                done = int(50 * dl / int(total_length))\n",
        "                sys.stdout.write(f\"\\r[{'=' * done}{' ' * (50-done)}] {dl} bytes downloaded\")\n",
        "                sys.stdout.flush()\n",
        "                data = fileres.read(CHUNK_SIZE)\n",
        "            if filename.endswith('.zip'):\n",
        "              with ZipFile(tfile) as zfile:\n",
        "                zfile.extractall(destination_path)\n",
        "            else:\n",
        "              with tarfile.open(tfile.name) as tarfile:\n",
        "                tarfile.extractall(destination_path)\n",
        "            print(f'\\nDownloaded and uncompressed: {directory}')\n",
        "    except HTTPError as e:\n",
        "        print(f'Failed to load (likely expired) {download_url} to path {destination_path}')\n",
        "        continue\n",
        "    except OSError as e:\n",
        "        print(f'Failed to load {download_url} to path {destination_path}')\n",
        "        continue\n",
        "\n",
        "print('Data source import complete.')\n"
      ],
      "metadata": {
        "id": "P0SU9Gd3YABW",
        "outputId": "73c6b406-c7aa-4337-cbe4-f23045df62bd",
        "colab": {
          "base_uri": "https://localhost:8080/"
        }
      },
      "cell_type": "code",
      "outputs": [
        {
          "output_type": "stream",
          "name": "stdout",
          "text": [
            "Downloading , 53591260 bytes compressed\n",
            "[==================================================] 53591260 bytes downloaded\n",
            "Downloaded and uncompressed: \n",
            "Data source import complete.\n"
          ]
        }
      ],
      "execution_count": 1
    },
    {
      "metadata": {
        "_uuid": "570fb89bb4f7838b1d0fdff70b2935790e5dbdbe",
        "id": "qghBTzvbYABZ"
      },
      "cell_type": "markdown",
      "source": [
        "<center>\n",
        "<img src=\"https://habrastorage.org/files/fd4/502/43d/fd450243dd604b81b9713213a247aa20.jpg\">\n",
        "    \n",
        "## [mlcourse.ai](mlcourse.ai) – Open Machine Learning Course\n",
        "\n",
        "<center>Author: [Yury Kashnitskiy](http://yorko.github.io) <br>\n",
        "Translated and edited by [Sergey Isaev](https://www.linkedin.com/in/isvforall/), [Artem Trunov](https://www.linkedin.com/in/datamove/), [Anastasia Manokhina](https://www.linkedin.com/in/anastasiamanokhina/), and [Yuanyuan Pao](https://www.linkedin.com/in/yuanyuanpao/) <br>All content is distributed under the [Creative Commons CC BY-NC-SA 4.0](https://creativecommons.org/licenses/by-nc-sa/4.0/) license."
      ]
    },
    {
      "metadata": {
        "_uuid": "998fc5f76227ab1df9460a7b05c508304b14b3a6",
        "id": "DDHG2dtLYABb"
      },
      "cell_type": "markdown",
      "source": [
        "# <center> Assignment #1 (demo)\n",
        "## <center>  Exploratory data analysis with Pandas\n"
      ]
    },
    {
      "metadata": {
        "_uuid": "89ef93231815456f4e0bc5dcc00b094aee800993",
        "id": "Twc5_mEtYABc"
      },
      "cell_type": "markdown",
      "source": [
        "**In this task you should use Pandas to answer a few questions about the [Adult](https://archive.ics.uci.edu/ml/datasets/Adult) dataset. (You don't have to download the data – it's already here). Choose the answers in the [web-form](https://docs.google.com/forms/d/1uY7MpI2trKx6FLWZte0uVh3ULV4Cm_tDud0VDFGCOKg). This is a demo version of an assignment, so by submitting the form, you'll see a link to the solution .ipynb file.**"
      ]
    },
    {
      "metadata": {
        "_uuid": "c322301ac858c748f8f80e63cf6f734fc70dde30",
        "id": "v0Fup5byYABd"
      },
      "cell_type": "markdown",
      "source": [
        "Unique values of all features (for more information, please see the links above):\n",
        "- `age`: continuous.\n",
        "- `workclass`: Private, Self-emp-not-inc, Self-emp-inc, Federal-gov, Local-gov, State-gov, Without-pay, Never-worked.\n",
        "- `fnlwgt`: continuous.\n",
        "- `education`: Bachelors, Some-college, 11th, HS-grad, Prof-school, Assoc-acdm, Assoc-voc, 9th, 7th-8th, 12th, Masters, 1st-4th, 10th, Doctorate, 5th-6th, Preschool.\n",
        "- `education-num`: continuous.\n",
        "- `marital-status`: Married-civ-spouse, Divorced, Never-married, Separated, Widowed, Married-spouse-absent, Married-AF-spouse.\n",
        "- `occupation`: Tech-support, Craft-repair, Other-service, Sales, Exec-managerial, Prof-specialty, Handlers-cleaners, Machine-op-inspct, Adm-clerical, Farming-fishing, Transport-moving, Priv-house-serv, Protective-serv, Armed-Forces.\n",
        "- `relationship`: Wife, Own-child, Husband, Not-in-family, Other-relative, Unmarried.\n",
        "- `race`: White, Asian-Pac-Islander, Amer-Indian-Eskimo, Other, Black.\n",
        "- `sex`: Female, Male.\n",
        "- `capital-gain`: continuous.\n",
        "- `capital-loss`: continuous.\n",
        "- `hours-per-week`: continuous.\n",
        "- `native-country`: United-States, Cambodia, England, Puerto-Rico, Canada, Germany, Outlying-US(Guam-USVI-etc), India, Japan, Greece, South, China, Cuba, Iran, Honduras, Philippines, Italy, Poland, Jamaica, Vietnam, Mexico, Portugal, Ireland, France, Dominican-Republic, Laos, Ecuador, Taiwan, Haiti, Columbia, Hungary, Guatemala, Nicaragua, Scotland, Thailand, Yugoslavia, El-Salvador, Trinadad&Tobago, Peru, Hong, Holand-Netherlands.   \n",
        "- `salary`: >50K,<=50K"
      ]
    },
    {
      "metadata": {
        "collapsed": true,
        "trusted": true,
        "_uuid": "d3eb2411e23b7db11e4cbbb498a42752442a6f4c",
        "id": "JtZKDYZsYABd"
      },
      "cell_type": "code",
      "source": [
        "import pandas as pd"
      ],
      "execution_count": 2,
      "outputs": []
    },
    {
      "metadata": {
        "trusted": true,
        "_uuid": "c5119d1b8151029b4ff57735c4279b795ae492a2",
        "collapsed": true,
        "id": "Cr87y6xsYABf",
        "outputId": "5b182104-a624-4171-f38d-92c98a3f637f",
        "colab": {
          "base_uri": "https://localhost:8080/",
          "height": 380
        }
      },
      "cell_type": "code",
      "source": [
        "data = pd.read_csv('../input/adult.data.csv')\n",
        "data.head()"
      ],
      "execution_count": 3,
      "outputs": [
        {
          "output_type": "execute_result",
          "data": {
            "text/plain": [
              "   age         workclass  fnlwgt  education  education-num  \\\n",
              "0   39         State-gov   77516  Bachelors             13   \n",
              "1   50  Self-emp-not-inc   83311  Bachelors             13   \n",
              "2   38           Private  215646    HS-grad              9   \n",
              "3   53           Private  234721       11th              7   \n",
              "4   28           Private  338409  Bachelors             13   \n",
              "\n",
              "       marital-status         occupation   relationship   race     sex  \\\n",
              "0       Never-married       Adm-clerical  Not-in-family  White    Male   \n",
              "1  Married-civ-spouse    Exec-managerial        Husband  White    Male   \n",
              "2            Divorced  Handlers-cleaners  Not-in-family  White    Male   \n",
              "3  Married-civ-spouse  Handlers-cleaners        Husband  Black    Male   \n",
              "4  Married-civ-spouse     Prof-specialty           Wife  Black  Female   \n",
              "\n",
              "   capital-gain  capital-loss  hours-per-week native-country salary  \n",
              "0          2174             0              40  United-States  <=50K  \n",
              "1             0             0              13  United-States  <=50K  \n",
              "2             0             0              40  United-States  <=50K  \n",
              "3             0             0              40  United-States  <=50K  \n",
              "4             0             0              40           Cuba  <=50K  "
            ],
            "text/html": [
              "\n",
              "  <div id=\"df-1c89cc67-1168-425c-b805-57239c378635\" class=\"colab-df-container\">\n",
              "    <div>\n",
              "<style scoped>\n",
              "    .dataframe tbody tr th:only-of-type {\n",
              "        vertical-align: middle;\n",
              "    }\n",
              "\n",
              "    .dataframe tbody tr th {\n",
              "        vertical-align: top;\n",
              "    }\n",
              "\n",
              "    .dataframe thead th {\n",
              "        text-align: right;\n",
              "    }\n",
              "</style>\n",
              "<table border=\"1\" class=\"dataframe\">\n",
              "  <thead>\n",
              "    <tr style=\"text-align: right;\">\n",
              "      <th></th>\n",
              "      <th>age</th>\n",
              "      <th>workclass</th>\n",
              "      <th>fnlwgt</th>\n",
              "      <th>education</th>\n",
              "      <th>education-num</th>\n",
              "      <th>marital-status</th>\n",
              "      <th>occupation</th>\n",
              "      <th>relationship</th>\n",
              "      <th>race</th>\n",
              "      <th>sex</th>\n",
              "      <th>capital-gain</th>\n",
              "      <th>capital-loss</th>\n",
              "      <th>hours-per-week</th>\n",
              "      <th>native-country</th>\n",
              "      <th>salary</th>\n",
              "    </tr>\n",
              "  </thead>\n",
              "  <tbody>\n",
              "    <tr>\n",
              "      <th>0</th>\n",
              "      <td>39</td>\n",
              "      <td>State-gov</td>\n",
              "      <td>77516</td>\n",
              "      <td>Bachelors</td>\n",
              "      <td>13</td>\n",
              "      <td>Never-married</td>\n",
              "      <td>Adm-clerical</td>\n",
              "      <td>Not-in-family</td>\n",
              "      <td>White</td>\n",
              "      <td>Male</td>\n",
              "      <td>2174</td>\n",
              "      <td>0</td>\n",
              "      <td>40</td>\n",
              "      <td>United-States</td>\n",
              "      <td>&lt;=50K</td>\n",
              "    </tr>\n",
              "    <tr>\n",
              "      <th>1</th>\n",
              "      <td>50</td>\n",
              "      <td>Self-emp-not-inc</td>\n",
              "      <td>83311</td>\n",
              "      <td>Bachelors</td>\n",
              "      <td>13</td>\n",
              "      <td>Married-civ-spouse</td>\n",
              "      <td>Exec-managerial</td>\n",
              "      <td>Husband</td>\n",
              "      <td>White</td>\n",
              "      <td>Male</td>\n",
              "      <td>0</td>\n",
              "      <td>0</td>\n",
              "      <td>13</td>\n",
              "      <td>United-States</td>\n",
              "      <td>&lt;=50K</td>\n",
              "    </tr>\n",
              "    <tr>\n",
              "      <th>2</th>\n",
              "      <td>38</td>\n",
              "      <td>Private</td>\n",
              "      <td>215646</td>\n",
              "      <td>HS-grad</td>\n",
              "      <td>9</td>\n",
              "      <td>Divorced</td>\n",
              "      <td>Handlers-cleaners</td>\n",
              "      <td>Not-in-family</td>\n",
              "      <td>White</td>\n",
              "      <td>Male</td>\n",
              "      <td>0</td>\n",
              "      <td>0</td>\n",
              "      <td>40</td>\n",
              "      <td>United-States</td>\n",
              "      <td>&lt;=50K</td>\n",
              "    </tr>\n",
              "    <tr>\n",
              "      <th>3</th>\n",
              "      <td>53</td>\n",
              "      <td>Private</td>\n",
              "      <td>234721</td>\n",
              "      <td>11th</td>\n",
              "      <td>7</td>\n",
              "      <td>Married-civ-spouse</td>\n",
              "      <td>Handlers-cleaners</td>\n",
              "      <td>Husband</td>\n",
              "      <td>Black</td>\n",
              "      <td>Male</td>\n",
              "      <td>0</td>\n",
              "      <td>0</td>\n",
              "      <td>40</td>\n",
              "      <td>United-States</td>\n",
              "      <td>&lt;=50K</td>\n",
              "    </tr>\n",
              "    <tr>\n",
              "      <th>4</th>\n",
              "      <td>28</td>\n",
              "      <td>Private</td>\n",
              "      <td>338409</td>\n",
              "      <td>Bachelors</td>\n",
              "      <td>13</td>\n",
              "      <td>Married-civ-spouse</td>\n",
              "      <td>Prof-specialty</td>\n",
              "      <td>Wife</td>\n",
              "      <td>Black</td>\n",
              "      <td>Female</td>\n",
              "      <td>0</td>\n",
              "      <td>0</td>\n",
              "      <td>40</td>\n",
              "      <td>Cuba</td>\n",
              "      <td>&lt;=50K</td>\n",
              "    </tr>\n",
              "  </tbody>\n",
              "</table>\n",
              "</div>\n",
              "    <div class=\"colab-df-buttons\">\n",
              "\n",
              "  <div class=\"colab-df-container\">\n",
              "    <button class=\"colab-df-convert\" onclick=\"convertToInteractive('df-1c89cc67-1168-425c-b805-57239c378635')\"\n",
              "            title=\"Convert this dataframe to an interactive table.\"\n",
              "            style=\"display:none;\">\n",
              "\n",
              "  <svg xmlns=\"http://www.w3.org/2000/svg\" height=\"24px\" viewBox=\"0 -960 960 960\">\n",
              "    <path d=\"M120-120v-720h720v720H120Zm60-500h600v-160H180v160Zm220 220h160v-160H400v160Zm0 220h160v-160H400v160ZM180-400h160v-160H180v160Zm440 0h160v-160H620v160ZM180-180h160v-160H180v160Zm440 0h160v-160H620v160Z\"/>\n",
              "  </svg>\n",
              "    </button>\n",
              "\n",
              "  <style>\n",
              "    .colab-df-container {\n",
              "      display:flex;\n",
              "      gap: 12px;\n",
              "    }\n",
              "\n",
              "    .colab-df-convert {\n",
              "      background-color: #E8F0FE;\n",
              "      border: none;\n",
              "      border-radius: 50%;\n",
              "      cursor: pointer;\n",
              "      display: none;\n",
              "      fill: #1967D2;\n",
              "      height: 32px;\n",
              "      padding: 0 0 0 0;\n",
              "      width: 32px;\n",
              "    }\n",
              "\n",
              "    .colab-df-convert:hover {\n",
              "      background-color: #E2EBFA;\n",
              "      box-shadow: 0px 1px 2px rgba(60, 64, 67, 0.3), 0px 1px 3px 1px rgba(60, 64, 67, 0.15);\n",
              "      fill: #174EA6;\n",
              "    }\n",
              "\n",
              "    .colab-df-buttons div {\n",
              "      margin-bottom: 4px;\n",
              "    }\n",
              "\n",
              "    [theme=dark] .colab-df-convert {\n",
              "      background-color: #3B4455;\n",
              "      fill: #D2E3FC;\n",
              "    }\n",
              "\n",
              "    [theme=dark] .colab-df-convert:hover {\n",
              "      background-color: #434B5C;\n",
              "      box-shadow: 0px 1px 3px 1px rgba(0, 0, 0, 0.15);\n",
              "      filter: drop-shadow(0px 1px 2px rgba(0, 0, 0, 0.3));\n",
              "      fill: #FFFFFF;\n",
              "    }\n",
              "  </style>\n",
              "\n",
              "    <script>\n",
              "      const buttonEl =\n",
              "        document.querySelector('#df-1c89cc67-1168-425c-b805-57239c378635 button.colab-df-convert');\n",
              "      buttonEl.style.display =\n",
              "        google.colab.kernel.accessAllowed ? 'block' : 'none';\n",
              "\n",
              "      async function convertToInteractive(key) {\n",
              "        const element = document.querySelector('#df-1c89cc67-1168-425c-b805-57239c378635');\n",
              "        const dataTable =\n",
              "          await google.colab.kernel.invokeFunction('convertToInteractive',\n",
              "                                                    [key], {});\n",
              "        if (!dataTable) return;\n",
              "\n",
              "        const docLinkHtml = 'Like what you see? Visit the ' +\n",
              "          '<a target=\"_blank\" href=https://colab.research.google.com/notebooks/data_table.ipynb>data table notebook</a>'\n",
              "          + ' to learn more about interactive tables.';\n",
              "        element.innerHTML = '';\n",
              "        dataTable['output_type'] = 'display_data';\n",
              "        await google.colab.output.renderOutput(dataTable, element);\n",
              "        const docLink = document.createElement('div');\n",
              "        docLink.innerHTML = docLinkHtml;\n",
              "        element.appendChild(docLink);\n",
              "      }\n",
              "    </script>\n",
              "  </div>\n",
              "\n",
              "\n",
              "<div id=\"df-10c09878-a263-47b1-9591-fd3105afb748\">\n",
              "  <button class=\"colab-df-quickchart\" onclick=\"quickchart('df-10c09878-a263-47b1-9591-fd3105afb748')\"\n",
              "            title=\"Suggest charts\"\n",
              "            style=\"display:none;\">\n",
              "\n",
              "<svg xmlns=\"http://www.w3.org/2000/svg\" height=\"24px\"viewBox=\"0 0 24 24\"\n",
              "     width=\"24px\">\n",
              "    <g>\n",
              "        <path d=\"M19 3H5c-1.1 0-2 .9-2 2v14c0 1.1.9 2 2 2h14c1.1 0 2-.9 2-2V5c0-1.1-.9-2-2-2zM9 17H7v-7h2v7zm4 0h-2V7h2v10zm4 0h-2v-4h2v4z\"/>\n",
              "    </g>\n",
              "</svg>\n",
              "  </button>\n",
              "\n",
              "<style>\n",
              "  .colab-df-quickchart {\n",
              "      --bg-color: #E8F0FE;\n",
              "      --fill-color: #1967D2;\n",
              "      --hover-bg-color: #E2EBFA;\n",
              "      --hover-fill-color: #174EA6;\n",
              "      --disabled-fill-color: #AAA;\n",
              "      --disabled-bg-color: #DDD;\n",
              "  }\n",
              "\n",
              "  [theme=dark] .colab-df-quickchart {\n",
              "      --bg-color: #3B4455;\n",
              "      --fill-color: #D2E3FC;\n",
              "      --hover-bg-color: #434B5C;\n",
              "      --hover-fill-color: #FFFFFF;\n",
              "      --disabled-bg-color: #3B4455;\n",
              "      --disabled-fill-color: #666;\n",
              "  }\n",
              "\n",
              "  .colab-df-quickchart {\n",
              "    background-color: var(--bg-color);\n",
              "    border: none;\n",
              "    border-radius: 50%;\n",
              "    cursor: pointer;\n",
              "    display: none;\n",
              "    fill: var(--fill-color);\n",
              "    height: 32px;\n",
              "    padding: 0;\n",
              "    width: 32px;\n",
              "  }\n",
              "\n",
              "  .colab-df-quickchart:hover {\n",
              "    background-color: var(--hover-bg-color);\n",
              "    box-shadow: 0 1px 2px rgba(60, 64, 67, 0.3), 0 1px 3px 1px rgba(60, 64, 67, 0.15);\n",
              "    fill: var(--button-hover-fill-color);\n",
              "  }\n",
              "\n",
              "  .colab-df-quickchart-complete:disabled,\n",
              "  .colab-df-quickchart-complete:disabled:hover {\n",
              "    background-color: var(--disabled-bg-color);\n",
              "    fill: var(--disabled-fill-color);\n",
              "    box-shadow: none;\n",
              "  }\n",
              "\n",
              "  .colab-df-spinner {\n",
              "    border: 2px solid var(--fill-color);\n",
              "    border-color: transparent;\n",
              "    border-bottom-color: var(--fill-color);\n",
              "    animation:\n",
              "      spin 1s steps(1) infinite;\n",
              "  }\n",
              "\n",
              "  @keyframes spin {\n",
              "    0% {\n",
              "      border-color: transparent;\n",
              "      border-bottom-color: var(--fill-color);\n",
              "      border-left-color: var(--fill-color);\n",
              "    }\n",
              "    20% {\n",
              "      border-color: transparent;\n",
              "      border-left-color: var(--fill-color);\n",
              "      border-top-color: var(--fill-color);\n",
              "    }\n",
              "    30% {\n",
              "      border-color: transparent;\n",
              "      border-left-color: var(--fill-color);\n",
              "      border-top-color: var(--fill-color);\n",
              "      border-right-color: var(--fill-color);\n",
              "    }\n",
              "    40% {\n",
              "      border-color: transparent;\n",
              "      border-right-color: var(--fill-color);\n",
              "      border-top-color: var(--fill-color);\n",
              "    }\n",
              "    60% {\n",
              "      border-color: transparent;\n",
              "      border-right-color: var(--fill-color);\n",
              "    }\n",
              "    80% {\n",
              "      border-color: transparent;\n",
              "      border-right-color: var(--fill-color);\n",
              "      border-bottom-color: var(--fill-color);\n",
              "    }\n",
              "    90% {\n",
              "      border-color: transparent;\n",
              "      border-bottom-color: var(--fill-color);\n",
              "    }\n",
              "  }\n",
              "</style>\n",
              "\n",
              "  <script>\n",
              "    async function quickchart(key) {\n",
              "      const quickchartButtonEl =\n",
              "        document.querySelector('#' + key + ' button');\n",
              "      quickchartButtonEl.disabled = true;  // To prevent multiple clicks.\n",
              "      quickchartButtonEl.classList.add('colab-df-spinner');\n",
              "      try {\n",
              "        const charts = await google.colab.kernel.invokeFunction(\n",
              "            'suggestCharts', [key], {});\n",
              "      } catch (error) {\n",
              "        console.error('Error during call to suggestCharts:', error);\n",
              "      }\n",
              "      quickchartButtonEl.classList.remove('colab-df-spinner');\n",
              "      quickchartButtonEl.classList.add('colab-df-quickchart-complete');\n",
              "    }\n",
              "    (() => {\n",
              "      let quickchartButtonEl =\n",
              "        document.querySelector('#df-10c09878-a263-47b1-9591-fd3105afb748 button');\n",
              "      quickchartButtonEl.style.display =\n",
              "        google.colab.kernel.accessAllowed ? 'block' : 'none';\n",
              "    })();\n",
              "  </script>\n",
              "</div>\n",
              "\n",
              "    </div>\n",
              "  </div>\n"
            ],
            "application/vnd.google.colaboratory.intrinsic+json": {
              "type": "dataframe",
              "variable_name": "data",
              "summary": "{\n  \"name\": \"data\",\n  \"rows\": 32561,\n  \"fields\": [\n    {\n      \"column\": \"age\",\n      \"properties\": {\n        \"dtype\": \"number\",\n        \"std\": 13,\n        \"min\": 17,\n        \"max\": 90,\n        \"num_unique_values\": 73,\n        \"samples\": [\n          28,\n          73,\n          35\n        ],\n        \"semantic_type\": \"\",\n        \"description\": \"\"\n      }\n    },\n    {\n      \"column\": \"workclass\",\n      \"properties\": {\n        \"dtype\": \"category\",\n        \"num_unique_values\": 9,\n        \"samples\": [\n          \"Without-pay\",\n          \"Self-emp-not-inc\",\n          \"?\"\n        ],\n        \"semantic_type\": \"\",\n        \"description\": \"\"\n      }\n    },\n    {\n      \"column\": \"fnlwgt\",\n      \"properties\": {\n        \"dtype\": \"number\",\n        \"std\": 105549,\n        \"min\": 12285,\n        \"max\": 1484705,\n        \"num_unique_values\": 21648,\n        \"samples\": [\n          128485,\n          469907,\n          235951\n        ],\n        \"semantic_type\": \"\",\n        \"description\": \"\"\n      }\n    },\n    {\n      \"column\": \"education\",\n      \"properties\": {\n        \"dtype\": \"category\",\n        \"num_unique_values\": 16,\n        \"samples\": [\n          \"Bachelors\",\n          \"HS-grad\",\n          \"Some-college\"\n        ],\n        \"semantic_type\": \"\",\n        \"description\": \"\"\n      }\n    },\n    {\n      \"column\": \"education-num\",\n      \"properties\": {\n        \"dtype\": \"number\",\n        \"std\": 2,\n        \"min\": 1,\n        \"max\": 16,\n        \"num_unique_values\": 16,\n        \"samples\": [\n          13,\n          9,\n          10\n        ],\n        \"semantic_type\": \"\",\n        \"description\": \"\"\n      }\n    },\n    {\n      \"column\": \"marital-status\",\n      \"properties\": {\n        \"dtype\": \"category\",\n        \"num_unique_values\": 7,\n        \"samples\": [\n          \"Never-married\",\n          \"Married-civ-spouse\",\n          \"Married-AF-spouse\"\n        ],\n        \"semantic_type\": \"\",\n        \"description\": \"\"\n      }\n    },\n    {\n      \"column\": \"occupation\",\n      \"properties\": {\n        \"dtype\": \"category\",\n        \"num_unique_values\": 15,\n        \"samples\": [\n          \"Machine-op-inspct\",\n          \"?\",\n          \"Adm-clerical\"\n        ],\n        \"semantic_type\": \"\",\n        \"description\": \"\"\n      }\n    },\n    {\n      \"column\": \"relationship\",\n      \"properties\": {\n        \"dtype\": \"category\",\n        \"num_unique_values\": 6,\n        \"samples\": [\n          \"Not-in-family\",\n          \"Husband\",\n          \"Other-relative\"\n        ],\n        \"semantic_type\": \"\",\n        \"description\": \"\"\n      }\n    },\n    {\n      \"column\": \"race\",\n      \"properties\": {\n        \"dtype\": \"category\",\n        \"num_unique_values\": 5,\n        \"samples\": [\n          \"Black\",\n          \"Other\",\n          \"Asian-Pac-Islander\"\n        ],\n        \"semantic_type\": \"\",\n        \"description\": \"\"\n      }\n    },\n    {\n      \"column\": \"sex\",\n      \"properties\": {\n        \"dtype\": \"category\",\n        \"num_unique_values\": 2,\n        \"samples\": [\n          \"Female\",\n          \"Male\"\n        ],\n        \"semantic_type\": \"\",\n        \"description\": \"\"\n      }\n    },\n    {\n      \"column\": \"capital-gain\",\n      \"properties\": {\n        \"dtype\": \"number\",\n        \"std\": 7385,\n        \"min\": 0,\n        \"max\": 99999,\n        \"num_unique_values\": 119,\n        \"samples\": [\n          3781,\n          15831\n        ],\n        \"semantic_type\": \"\",\n        \"description\": \"\"\n      }\n    },\n    {\n      \"column\": \"capital-loss\",\n      \"properties\": {\n        \"dtype\": \"number\",\n        \"std\": 402,\n        \"min\": 0,\n        \"max\": 4356,\n        \"num_unique_values\": 92,\n        \"samples\": [\n          419,\n          2051\n        ],\n        \"semantic_type\": \"\",\n        \"description\": \"\"\n      }\n    },\n    {\n      \"column\": \"hours-per-week\",\n      \"properties\": {\n        \"dtype\": \"number\",\n        \"std\": 12,\n        \"min\": 1,\n        \"max\": 99,\n        \"num_unique_values\": 94,\n        \"samples\": [\n          6,\n          22\n        ],\n        \"semantic_type\": \"\",\n        \"description\": \"\"\n      }\n    },\n    {\n      \"column\": \"native-country\",\n      \"properties\": {\n        \"dtype\": \"category\",\n        \"num_unique_values\": 42,\n        \"samples\": [\n          \"El-Salvador\",\n          \"Philippines\"\n        ],\n        \"semantic_type\": \"\",\n        \"description\": \"\"\n      }\n    },\n    {\n      \"column\": \"salary\",\n      \"properties\": {\n        \"dtype\": \"category\",\n        \"num_unique_values\": 2,\n        \"samples\": [\n          \">50K\",\n          \"<=50K\"\n        ],\n        \"semantic_type\": \"\",\n        \"description\": \"\"\n      }\n    }\n  ]\n}"
            }
          },
          "metadata": {},
          "execution_count": 3
        }
      ]
    },
    {
      "cell_type": "code",
      "source": [
        "print(data.columns)"
      ],
      "metadata": {
        "id": "3WO9cEKOY7d4",
        "outputId": "c68463d3-6909-44fa-d505-3f645bdd24bd",
        "colab": {
          "base_uri": "https://localhost:8080/"
        }
      },
      "execution_count": 4,
      "outputs": [
        {
          "output_type": "stream",
          "name": "stdout",
          "text": [
            "Index(['age', 'workclass', 'fnlwgt', 'education', 'education-num',\n",
            "       'marital-status', 'occupation', 'relationship', 'race', 'sex',\n",
            "       'capital-gain', 'capital-loss', 'hours-per-week', 'native-country',\n",
            "       'salary'],\n",
            "      dtype='object')\n"
          ]
        }
      ]
    },
    {
      "cell_type": "code",
      "source": [
        "print(data.info())"
      ],
      "metadata": {
        "id": "3ziV3-QNZGU3",
        "outputId": "42310832-8236-4947-ba60-21dc3126a2a9",
        "colab": {
          "base_uri": "https://localhost:8080/"
        }
      },
      "execution_count": 5,
      "outputs": [
        {
          "output_type": "stream",
          "name": "stdout",
          "text": [
            "<class 'pandas.core.frame.DataFrame'>\n",
            "RangeIndex: 32561 entries, 0 to 32560\n",
            "Data columns (total 15 columns):\n",
            " #   Column          Non-Null Count  Dtype \n",
            "---  ------          --------------  ----- \n",
            " 0   age             32561 non-null  int64 \n",
            " 1   workclass       32561 non-null  object\n",
            " 2   fnlwgt          32561 non-null  int64 \n",
            " 3   education       32561 non-null  object\n",
            " 4   education-num   32561 non-null  int64 \n",
            " 5   marital-status  32561 non-null  object\n",
            " 6   occupation      32561 non-null  object\n",
            " 7   relationship    32561 non-null  object\n",
            " 8   race            32561 non-null  object\n",
            " 9   sex             32561 non-null  object\n",
            " 10  capital-gain    32561 non-null  int64 \n",
            " 11  capital-loss    32561 non-null  int64 \n",
            " 12  hours-per-week  32561 non-null  int64 \n",
            " 13  native-country  32561 non-null  object\n",
            " 14  salary          32561 non-null  object\n",
            "dtypes: int64(6), object(9)\n",
            "memory usage: 3.7+ MB\n",
            "None\n"
          ]
        }
      ]
    },
    {
      "metadata": {
        "_uuid": "6b19853f936853d40971b56f4d298ab55ee78cac",
        "id": "ovdHWw11YABf"
      },
      "cell_type": "markdown",
      "source": [
        "**1. How many men and women (*sex* feature) are represented in this dataset?**"
      ]
    },
    {
      "metadata": {
        "collapsed": true,
        "trusted": true,
        "_uuid": "d32cafcbe966dbdfa40c3017d16d6f8c96bfb3e2",
        "id": "LLEciiNZYABg",
        "outputId": "cd017e47-7e7c-4bb4-cea8-5f12ca1a23b9",
        "colab": {
          "base_uri": "https://localhost:8080/",
          "height": 178
        }
      },
      "cell_type": "code",
      "source": [
        "# You code here\n",
        "data[\"sex\"].value_counts()"
      ],
      "execution_count": 6,
      "outputs": [
        {
          "output_type": "execute_result",
          "data": {
            "text/plain": [
              "sex\n",
              "Male      21790\n",
              "Female    10771\n",
              "Name: count, dtype: int64"
            ],
            "text/html": [
              "<div>\n",
              "<style scoped>\n",
              "    .dataframe tbody tr th:only-of-type {\n",
              "        vertical-align: middle;\n",
              "    }\n",
              "\n",
              "    .dataframe tbody tr th {\n",
              "        vertical-align: top;\n",
              "    }\n",
              "\n",
              "    .dataframe thead th {\n",
              "        text-align: right;\n",
              "    }\n",
              "</style>\n",
              "<table border=\"1\" class=\"dataframe\">\n",
              "  <thead>\n",
              "    <tr style=\"text-align: right;\">\n",
              "      <th></th>\n",
              "      <th>count</th>\n",
              "    </tr>\n",
              "    <tr>\n",
              "      <th>sex</th>\n",
              "      <th></th>\n",
              "    </tr>\n",
              "  </thead>\n",
              "  <tbody>\n",
              "    <tr>\n",
              "      <th>Male</th>\n",
              "      <td>21790</td>\n",
              "    </tr>\n",
              "    <tr>\n",
              "      <th>Female</th>\n",
              "      <td>10771</td>\n",
              "    </tr>\n",
              "  </tbody>\n",
              "</table>\n",
              "</div><br><label><b>dtype:</b> int64</label>"
            ]
          },
          "metadata": {},
          "execution_count": 6
        }
      ]
    },
    {
      "metadata": {
        "_uuid": "4748793234a5d325ea60d13331ecf93e29774523",
        "id": "4WMOC2giYABj"
      },
      "cell_type": "markdown",
      "source": [
        "**2. What is the average age (*age* feature) of women?**"
      ]
    },
    {
      "metadata": {
        "collapsed": true,
        "trusted": true,
        "_uuid": "64f60d928855107d8980875656dcdf3587d91646",
        "id": "a6HCne53YABk",
        "outputId": "d01afe98-2dd6-4d7a-bd89-bf859e470b69",
        "colab": {
          "base_uri": "https://localhost:8080/"
        }
      },
      "cell_type": "code",
      "source": [
        "# You code here\n",
        "print(data.groupby(\"sex\")[\"age\"].mean())"
      ],
      "execution_count": 7,
      "outputs": [
        {
          "output_type": "stream",
          "name": "stdout",
          "text": [
            "sex\n",
            "Female    36.858230\n",
            "Male      39.433547\n",
            "Name: age, dtype: float64\n"
          ]
        }
      ]
    },
    {
      "metadata": {
        "_uuid": "80e87c421c348067e88769c64e554206c51727d1",
        "id": "AEF_YpqmYABm"
      },
      "cell_type": "markdown",
      "source": [
        "**3. What is the percentage of German citizens (*native-country* feature)?**"
      ]
    },
    {
      "metadata": {
        "collapsed": true,
        "trusted": true,
        "_uuid": "ca9807509692638bd945671ed7d8b4a5ad1f3626",
        "id": "Gh2FJ17kYABm",
        "outputId": "130fe08b-f307-4ef2-ad85-67b995d5d6d1",
        "colab": {
          "base_uri": "https://localhost:8080/"
        }
      },
      "cell_type": "code",
      "source": [
        "# You code here\n",
        "print((data[\"native-country\"].value_counts()[\"Germany\"]/len(data))* 100)"
      ],
      "execution_count": 8,
      "outputs": [
        {
          "output_type": "stream",
          "name": "stdout",
          "text": [
            "0.42074874850281013\n"
          ]
        }
      ]
    },
    {
      "metadata": {
        "_uuid": "be9911cf525df4fca2c1d14b8720bc8a82f462e7",
        "id": "jrLilHGAYABn"
      },
      "cell_type": "markdown",
      "source": [
        "**4-5. What are the mean and standard deviation of age for those who earn more than 50K per year (*salary* feature) and those who earn less than 50K per year? **"
      ]
    },
    {
      "metadata": {
        "collapsed": true,
        "trusted": true,
        "_uuid": "97948f0115f949913d211627151b5605bcd204fd",
        "id": "ZfWCN39-YABo",
        "outputId": "50b7521d-ea0d-4cc2-e0a1-24609fb6b826",
        "colab": {
          "base_uri": "https://localhost:8080/"
        }
      },
      "cell_type": "code",
      "source": [
        "# You code here\n",
        "above_50k = data.loc[data[\"salary\"] == \">50K\",\"age\"]\n",
        "below_50k = data.loc[data[\"salary\"] == \"<=50K\", \"age\"]\n",
        "\n",
        "print(f'The standard deviation for people who earn above 50k is {round(above_50k.std(),2)}, and the mean is {round(above_50k.mean(),2)}')\n",
        "\n",
        "print(f'The standard deviation for people who earn above 50k is {round(below_50k.std(),2)}, and the mean is {round(below_50k.mean(),2)}')\n",
        "\n"
      ],
      "execution_count": 9,
      "outputs": [
        {
          "output_type": "stream",
          "name": "stdout",
          "text": [
            "The standard deviation for people who earn above 50k is 10.52, and the mean is 44.25\n",
            "The standard deviation for people who earn above 50k is 14.02, and the mean is 36.78\n"
          ]
        }
      ]
    },
    {
      "metadata": {
        "_uuid": "180c3fe6f8b250b877c1d86866067b80acabdb64",
        "id": "-yoIoelmYABp"
      },
      "cell_type": "markdown",
      "source": [
        "**6. Is it true that people who earn more than 50K have at least high school education? (*education – Bachelors, Prof-school, Assoc-acdm, Assoc-voc, Masters* or *Doctorate* feature)**"
      ]
    },
    {
      "metadata": {
        "collapsed": true,
        "trusted": true,
        "_uuid": "58f38ebfa2b0e1418a6a1a680d0743697f9876a2",
        "id": "P4iiktiDYABp",
        "colab": {
          "base_uri": "https://localhost:8080/"
        },
        "outputId": "7b9e702b-8d60-4afb-8b4b-b7cab93c5894"
      },
      "cell_type": "code",
      "source": [
        "# You code here\n",
        "data[data[\"salary\"] == \">50K\"][\"education\"].unique()"
      ],
      "execution_count": 10,
      "outputs": [
        {
          "output_type": "execute_result",
          "data": {
            "text/plain": [
              "array(['HS-grad', 'Masters', 'Bachelors', 'Some-college', 'Assoc-voc',\n",
              "       'Doctorate', 'Prof-school', 'Assoc-acdm', '7th-8th', '12th',\n",
              "       '10th', '11th', '9th', '5th-6th', '1st-4th'], dtype=object)"
            ]
          },
          "metadata": {},
          "execution_count": 10
        }
      ]
    },
    {
      "metadata": {
        "_uuid": "87d6bc9ec1c230e66416ce94533ea250368009cc",
        "id": "vK9M0wiaYABq"
      },
      "cell_type": "markdown",
      "source": [
        "**7. Display age statistics for each race (*race* feature) and each gender (*sex* feature). Use *groupby()* and *describe()*. Find the maximum age of men of *Amer-Indian-Eskimo* race.**"
      ]
    },
    {
      "metadata": {
        "collapsed": true,
        "trusted": true,
        "_uuid": "a4567b72200b583f7f2ee1583405d636c12169db",
        "id": "Rpjb8lMIYABq",
        "colab": {
          "base_uri": "https://localhost:8080/"
        },
        "outputId": "786eb561-e1c8-4fc4-9248-7896a741510b"
      },
      "cell_type": "code",
      "source": [
        "# You code here\n",
        "for (race, sex), sub_df in data.groupby([\"race\",\"sex\"]):\n",
        "  print(f'Race: {race} and Sex: {sex}')\n",
        "  print(round(sub_df.describe(),2))"
      ],
      "execution_count": 11,
      "outputs": [
        {
          "output_type": "stream",
          "name": "stdout",
          "text": [
            "Race: Amer-Indian-Eskimo and Sex: Female\n",
            "          age     fnlwgt  education-num  capital-gain  capital-loss  \\\n",
            "count  119.00     119.00         119.00        119.00        119.00   \n",
            "mean    37.12  112950.73           9.70        544.61         14.46   \n",
            "std     13.11   93207.97           2.33       2451.59        157.76   \n",
            "min     17.00   12285.00           2.00          0.00          0.00   \n",
            "25%     27.00   31387.00           9.00          0.00          0.00   \n",
            "50%     36.00   87950.00          10.00          0.00          0.00   \n",
            "75%     46.00  163027.50          11.00          0.00          0.00   \n",
            "max     80.00  445168.00          16.00      15024.00       1721.00   \n",
            "\n",
            "       hours-per-week  \n",
            "count          119.00  \n",
            "mean            36.58  \n",
            "std             11.05  \n",
            "min              4.00  \n",
            "25%             35.00  \n",
            "50%             40.00  \n",
            "75%             40.00  \n",
            "max             84.00  \n",
            "Race: Amer-Indian-Eskimo and Sex: Male\n",
            "          age     fnlwgt  education-num  capital-gain  capital-loss  \\\n",
            "count  192.00     192.00         192.00        192.00        192.00   \n",
            "mean    37.21  125715.36           9.07        675.26         46.40   \n",
            "std     12.05   85063.25           2.27       2929.75        286.56   \n",
            "min     17.00   13769.00           2.00          0.00          0.00   \n",
            "25%     28.00   48197.75           9.00          0.00          0.00   \n",
            "50%     35.00  113091.00           9.00          0.00          0.00   \n",
            "75%     45.00  182656.00          10.00          0.00          0.00   \n",
            "max     82.00  356015.00          16.00      27828.00       1980.00   \n",
            "\n",
            "       hours-per-week  \n",
            "count           192.0  \n",
            "mean             42.2  \n",
            "std              11.6  \n",
            "min               3.0  \n",
            "25%              40.0  \n",
            "50%              40.0  \n",
            "75%              45.0  \n",
            "max              84.0  \n",
            "Race: Asian-Pac-Islander and Sex: Female\n",
            "          age     fnlwgt  education-num  capital-gain  capital-loss  \\\n",
            "count  346.00     346.00         346.00        346.00        346.00   \n",
            "mean    35.09  147452.08          10.39        778.44         50.85   \n",
            "std     12.30   76401.63           2.80       7675.23        296.53   \n",
            "min     17.00   19914.00           1.00          0.00          0.00   \n",
            "25%     25.00   86879.25           9.00          0.00          0.00   \n",
            "50%     33.00  131986.00          10.00          0.00          0.00   \n",
            "75%     43.75  175705.75          13.00          0.00          0.00   \n",
            "max     75.00  379046.00          15.00      99999.00       2258.00   \n",
            "\n",
            "       hours-per-week  \n",
            "count          346.00  \n",
            "mean            37.44  \n",
            "std             12.48  \n",
            "min              1.00  \n",
            "25%             35.00  \n",
            "50%             40.00  \n",
            "75%             40.00  \n",
            "max             99.00  \n",
            "Race: Asian-Pac-Islander and Sex: Male\n",
            "          age     fnlwgt  education-num  capital-gain  capital-loss  \\\n",
            "count  693.00     693.00         693.00        693.00        693.00   \n",
            "mean    39.07  166175.87          11.25       1827.81        120.37   \n",
            "std     12.88   88552.95           2.78      10947.53        472.92   \n",
            "min     18.00   14878.00           1.00          0.00          0.00   \n",
            "25%     29.00   98350.00           9.00          0.00          0.00   \n",
            "50%     37.00  147719.00          11.00          0.00          0.00   \n",
            "75%     46.00  200117.00          13.00          0.00          0.00   \n",
            "max     90.00  506329.00          16.00      99999.00       2457.00   \n",
            "\n",
            "       hours-per-week  \n",
            "count          693.00  \n",
            "mean            41.47  \n",
            "std             12.39  \n",
            "min              1.00  \n",
            "25%             40.00  \n",
            "50%             40.00  \n",
            "75%             45.00  \n",
            "max             99.00  \n",
            "Race: Black and Sex: Female\n",
            "           age     fnlwgt  education-num  capital-gain  capital-loss  \\\n",
            "count  1555.00    1555.00        1555.00       1555.00       1555.00   \n",
            "mean     37.85  212971.39           9.55        516.59         45.45   \n",
            "std      12.64  109971.26           2.21       5312.75        299.10   \n",
            "min      17.00   19752.00           1.00          0.00          0.00   \n",
            "25%      28.00  142666.50           9.00          0.00          0.00   \n",
            "50%      37.00  193553.00           9.00          0.00          0.00   \n",
            "75%      46.00  253759.00          10.00          0.00          0.00   \n",
            "max      90.00  930948.00          16.00      99999.00       4356.00   \n",
            "\n",
            "       hours-per-week  \n",
            "count         1555.00  \n",
            "mean            36.83  \n",
            "std              9.42  \n",
            "min              2.00  \n",
            "25%             35.00  \n",
            "50%             40.00  \n",
            "75%             40.00  \n",
            "max             99.00  \n",
            "Race: Black and Sex: Male\n",
            "           age      fnlwgt  education-num  capital-gain  capital-loss  \\\n",
            "count  1569.00     1569.00        1569.00       1569.00       1569.00   \n",
            "mean     37.68   242920.64           9.42        702.45         75.19   \n",
            "std      12.88   134145.97           2.38       4962.11        370.98   \n",
            "min      17.00    21856.00           1.00          0.00          0.00   \n",
            "25%      27.00   156410.00           9.00          0.00          0.00   \n",
            "50%      36.00   221196.00           9.00          0.00          0.00   \n",
            "75%      46.00   298601.00          10.00          0.00          0.00   \n",
            "max      90.00  1268339.00          16.00      99999.00       2824.00   \n",
            "\n",
            "       hours-per-week  \n",
            "count         1569.00  \n",
            "mean            40.00  \n",
            "std             10.91  \n",
            "min              1.00  \n",
            "25%             40.00  \n",
            "50%             40.00  \n",
            "75%             40.00  \n",
            "max             99.00  \n",
            "Race: Other and Sex: Female\n",
            "          age     fnlwgt  education-num  capital-gain  capital-loss  \\\n",
            "count  109.00     109.00         109.00        109.00        109.00   \n",
            "mean    31.68  172519.64           8.90        254.67         36.28   \n",
            "std     11.63   77766.67           3.03       1317.33        231.80   \n",
            "min     17.00   24562.00           2.00          0.00          0.00   \n",
            "25%     23.00  119890.00           7.00          0.00          0.00   \n",
            "50%     29.00  171199.00           9.00          0.00          0.00   \n",
            "75%     39.00  219441.00          10.00          0.00          0.00   \n",
            "max     74.00  388741.00          14.00       7688.00       1740.00   \n",
            "\n",
            "       hours-per-week  \n",
            "count          109.00  \n",
            "mean            35.93  \n",
            "std             10.30  \n",
            "min              6.00  \n",
            "25%             30.00  \n",
            "50%             40.00  \n",
            "75%             40.00  \n",
            "max             65.00  \n",
            "Race: Other and Sex: Male\n",
            "          age     fnlwgt  education-num  capital-gain  capital-loss  \\\n",
            "count  162.00     162.00         162.00        162.00        162.00   \n",
            "mean    34.65  213679.10           8.80       1392.19         77.75   \n",
            "std     11.36   92187.36           3.36      11093.71        370.99   \n",
            "min     17.00   25610.00           1.00          0.00          0.00   \n",
            "25%     26.00  150726.75           8.00          0.00          0.00   \n",
            "50%     32.00  208516.50           9.00          0.00          0.00   \n",
            "75%     42.00  253334.75          10.00          0.00          0.00   \n",
            "max     77.00  481175.00          16.00      99999.00       2179.00   \n",
            "\n",
            "       hours-per-week  \n",
            "count          162.00  \n",
            "mean            41.85  \n",
            "std             11.08  \n",
            "min              5.00  \n",
            "25%             40.00  \n",
            "50%             40.00  \n",
            "75%             40.00  \n",
            "max             98.00  \n",
            "Race: White and Sex: Female\n",
            "           age      fnlwgt  education-num  capital-gain  capital-loss  \\\n",
            "count  8642.00     8642.00        8642.00       8642.00       8642.00   \n",
            "mean     36.81   183549.97          10.13        573.61         65.39   \n",
            "std      14.33   101710.29           2.37       4763.13        352.33   \n",
            "min      17.00    19395.00           1.00          0.00          0.00   \n",
            "25%      25.00   115914.75           9.00          0.00          0.00   \n",
            "50%      35.00   175810.50          10.00          0.00          0.00   \n",
            "75%      46.00   224836.50          12.00          0.00          0.00   \n",
            "max      90.00  1484705.00          16.00      99999.00       4356.00   \n",
            "\n",
            "       hours-per-week  \n",
            "count         8642.00  \n",
            "mean            36.30  \n",
            "std             12.19  \n",
            "min              1.00  \n",
            "25%             30.00  \n",
            "50%             40.00  \n",
            "75%             40.00  \n",
            "max             99.00  \n",
            "Race: White and Sex: Male\n",
            "            age      fnlwgt  education-num  capital-gain  capital-loss  \\\n",
            "count  19174.00    19174.00       19174.00      19174.00      19174.00   \n",
            "mean      39.65   188987.39          10.14       1368.67        102.26   \n",
            "std       13.44   103714.60           2.66       8442.83        434.16   \n",
            "min       17.00    18827.00           1.00          0.00          0.00   \n",
            "25%       29.00   117381.00           9.00          0.00          0.00   \n",
            "50%       38.00   178662.50          10.00          0.00          0.00   \n",
            "75%       49.00   236858.75          13.00          0.00          0.00   \n",
            "max       90.00  1455435.00          16.00      99999.00       3770.00   \n",
            "\n",
            "       hours-per-week  \n",
            "count        19174.00  \n",
            "mean            42.67  \n",
            "std             12.19  \n",
            "min              1.00  \n",
            "25%             40.00  \n",
            "50%             40.00  \n",
            "75%             50.00  \n",
            "max             99.00  \n"
          ]
        }
      ]
    },
    {
      "metadata": {
        "_uuid": "19411d604b0d4337a4a048a2f0e898541f39ab76",
        "id": "NoDNH9onYABq"
      },
      "cell_type": "markdown",
      "source": [
        "**8. Among whom is the proportion of those who earn a lot (>50K) greater: married or single men (*marital-status* feature)? Consider as married those who have a *marital-status* starting with *Married* (Married-civ-spouse, Married-spouse-absent or Married-AF-spouse), the rest are considered bachelors.**"
      ]
    },
    {
      "metadata": {
        "collapsed": true,
        "trusted": true,
        "_uuid": "5bb3a8524fcbd794707075ccf6aaf8dd0f30a3dd",
        "id": "DS_Bt9ITYABr",
        "colab": {
          "base_uri": "https://localhost:8080/",
          "height": 178
        },
        "outputId": "08ae1ed2-68ef-481e-a7a9-3d60887ae2ed"
      },
      "cell_type": "code",
      "source": [
        "#married\n",
        "data[(data[\"sex\"] == \"Male\") & (data[\"marital-status\"].str.startswith(\"Married\"))][\"salary\"].value_counts(normalize=True)"
      ],
      "execution_count": 12,
      "outputs": [
        {
          "output_type": "execute_result",
          "data": {
            "text/plain": [
              "salary\n",
              "<=50K    0.559486\n",
              ">50K     0.440514\n",
              "Name: proportion, dtype: float64"
            ],
            "text/html": [
              "<div>\n",
              "<style scoped>\n",
              "    .dataframe tbody tr th:only-of-type {\n",
              "        vertical-align: middle;\n",
              "    }\n",
              "\n",
              "    .dataframe tbody tr th {\n",
              "        vertical-align: top;\n",
              "    }\n",
              "\n",
              "    .dataframe thead th {\n",
              "        text-align: right;\n",
              "    }\n",
              "</style>\n",
              "<table border=\"1\" class=\"dataframe\">\n",
              "  <thead>\n",
              "    <tr style=\"text-align: right;\">\n",
              "      <th></th>\n",
              "      <th>proportion</th>\n",
              "    </tr>\n",
              "    <tr>\n",
              "      <th>salary</th>\n",
              "      <th></th>\n",
              "    </tr>\n",
              "  </thead>\n",
              "  <tbody>\n",
              "    <tr>\n",
              "      <th>&lt;=50K</th>\n",
              "      <td>0.559486</td>\n",
              "    </tr>\n",
              "    <tr>\n",
              "      <th>&gt;50K</th>\n",
              "      <td>0.440514</td>\n",
              "    </tr>\n",
              "  </tbody>\n",
              "</table>\n",
              "</div><br><label><b>dtype:</b> float64</label>"
            ]
          },
          "metadata": {},
          "execution_count": 12
        }
      ]
    },
    {
      "cell_type": "code",
      "source": [
        "data[(data[\"sex\"] == \"Male\") & ~(data[\"marital-status\"].str.startswith(\"Married\"))][\"salary\"].value_counts(normalize=True)"
      ],
      "metadata": {
        "colab": {
          "base_uri": "https://localhost:8080/",
          "height": 178
        },
        "id": "FPwDMOa9UTcn",
        "outputId": "45188898-883d-4e0f-8674-00e206b3659c"
      },
      "execution_count": 13,
      "outputs": [
        {
          "output_type": "execute_result",
          "data": {
            "text/plain": [
              "salary\n",
              "<=50K    0.915505\n",
              ">50K     0.084495\n",
              "Name: proportion, dtype: float64"
            ],
            "text/html": [
              "<div>\n",
              "<style scoped>\n",
              "    .dataframe tbody tr th:only-of-type {\n",
              "        vertical-align: middle;\n",
              "    }\n",
              "\n",
              "    .dataframe tbody tr th {\n",
              "        vertical-align: top;\n",
              "    }\n",
              "\n",
              "    .dataframe thead th {\n",
              "        text-align: right;\n",
              "    }\n",
              "</style>\n",
              "<table border=\"1\" class=\"dataframe\">\n",
              "  <thead>\n",
              "    <tr style=\"text-align: right;\">\n",
              "      <th></th>\n",
              "      <th>proportion</th>\n",
              "    </tr>\n",
              "    <tr>\n",
              "      <th>salary</th>\n",
              "      <th></th>\n",
              "    </tr>\n",
              "  </thead>\n",
              "  <tbody>\n",
              "    <tr>\n",
              "      <th>&lt;=50K</th>\n",
              "      <td>0.915505</td>\n",
              "    </tr>\n",
              "    <tr>\n",
              "      <th>&gt;50K</th>\n",
              "      <td>0.084495</td>\n",
              "    </tr>\n",
              "  </tbody>\n",
              "</table>\n",
              "</div><br><label><b>dtype:</b> float64</label>"
            ]
          },
          "metadata": {},
          "execution_count": 13
        }
      ]
    },
    {
      "metadata": {
        "_uuid": "34f2076e7d331b95a23b990372809b709d2c8183",
        "id": "GbbjOzQDYABr"
      },
      "cell_type": "markdown",
      "source": [
        "**9. What is the maximum number of hours a person works per week (*hours-per-week* feature)? How many people work such a number of hours, and what is the percentage of those who earn a lot (>50K) among them?**"
      ]
    },
    {
      "metadata": {
        "collapsed": true,
        "trusted": true,
        "_uuid": "3571468172fc4bcf34e10b3d6ab358d4e41f7ef4",
        "id": "Nxb3ozThYABr",
        "colab": {
          "base_uri": "https://localhost:8080/"
        },
        "outputId": "1415ff50-9b97-4a60-e43b-778cc156b1a6"
      },
      "cell_type": "code",
      "source": [
        "max_load = data[\"hours-per-week\"].max()\n",
        "print(\"Max time - {0} hours./week.\".format(max_load))\n",
        "\n",
        "num_workaholics = data[data[\"hours-per-week\"] == max_load].shape[0]\n",
        "print(\"Total number of such hard workers {0}\".format(num_workaholics))\n",
        "\n",
        "rich_share = (\n",
        "    float(\n",
        "        data[(data[\"hours-per-week\"] == max_load) & (data[\"salary\"] == \">50K\")].shape[0]\n",
        "    )\n",
        "    / num_workaholics\n",
        ")\n",
        "print(\"Percentage of rich among them {0}%\".format(int(100 * rich_share)))"
      ],
      "execution_count": 17,
      "outputs": [
        {
          "output_type": "stream",
          "name": "stdout",
          "text": [
            "Max time - 99 hours./week.\n",
            "Total number of such hard workers 85\n",
            "Percentage of rich among them 29%\n"
          ]
        }
      ]
    },
    {
      "metadata": {
        "_uuid": "d539d4d137fac1c5ea25bc516188eb657d67e9b4",
        "id": "qu4AuE35YABs"
      },
      "cell_type": "markdown",
      "source": [
        "**10. Count the average time of work (*hours-per-week*) for those who earn a little and a lot (*salary*) for each country (*native-country*). What will these be for Japan?**"
      ]
    },
    {
      "metadata": {
        "collapsed": true,
        "trusted": false,
        "_uuid": "75a93411f1e3b519afcc27c026aaa0c67eb526e9",
        "id": "LTG-i5MEYABs",
        "colab": {
          "base_uri": "https://localhost:8080/"
        },
        "outputId": "0989ff1c-daad-4360-df4d-73829cd514c3"
      },
      "cell_type": "code",
      "source": [
        "for (country, salary), sub_df in data.groupby([\"native-country\", \"salary\"]):\n",
        "  print(country, salary, round(sub_df[\"hours-per-week\"].mean(), 2))"
      ],
      "execution_count": 18,
      "outputs": [
        {
          "output_type": "stream",
          "name": "stdout",
          "text": [
            "? <=50K 40.16\n",
            "? >50K 45.55\n",
            "Cambodia <=50K 41.42\n",
            "Cambodia >50K 40.0\n",
            "Canada <=50K 37.91\n",
            "Canada >50K 45.64\n",
            "China <=50K 37.38\n",
            "China >50K 38.9\n",
            "Columbia <=50K 38.68\n",
            "Columbia >50K 50.0\n",
            "Cuba <=50K 37.99\n",
            "Cuba >50K 42.44\n",
            "Dominican-Republic <=50K 42.34\n",
            "Dominican-Republic >50K 47.0\n",
            "Ecuador <=50K 38.04\n",
            "Ecuador >50K 48.75\n",
            "El-Salvador <=50K 36.03\n",
            "El-Salvador >50K 45.0\n",
            "England <=50K 40.48\n",
            "England >50K 44.53\n",
            "France <=50K 41.06\n",
            "France >50K 50.75\n",
            "Germany <=50K 39.14\n",
            "Germany >50K 44.98\n",
            "Greece <=50K 41.81\n",
            "Greece >50K 50.62\n",
            "Guatemala <=50K 39.36\n",
            "Guatemala >50K 36.67\n",
            "Haiti <=50K 36.33\n",
            "Haiti >50K 42.75\n",
            "Holand-Netherlands <=50K 40.0\n",
            "Honduras <=50K 34.33\n",
            "Honduras >50K 60.0\n",
            "Hong <=50K 39.14\n",
            "Hong >50K 45.0\n",
            "Hungary <=50K 31.3\n",
            "Hungary >50K 50.0\n",
            "India <=50K 38.23\n",
            "India >50K 46.48\n",
            "Iran <=50K 41.44\n",
            "Iran >50K 47.5\n",
            "Ireland <=50K 40.95\n",
            "Ireland >50K 48.0\n",
            "Italy <=50K 39.62\n",
            "Italy >50K 45.4\n",
            "Jamaica <=50K 38.24\n",
            "Jamaica >50K 41.1\n",
            "Japan <=50K 41.0\n",
            "Japan >50K 47.96\n",
            "Laos <=50K 40.38\n",
            "Laos >50K 40.0\n",
            "Mexico <=50K 40.0\n",
            "Mexico >50K 46.58\n",
            "Nicaragua <=50K 36.09\n",
            "Nicaragua >50K 37.5\n",
            "Outlying-US(Guam-USVI-etc) <=50K 41.86\n",
            "Peru <=50K 35.07\n",
            "Peru >50K 40.0\n",
            "Philippines <=50K 38.07\n",
            "Philippines >50K 43.03\n",
            "Poland <=50K 38.17\n",
            "Poland >50K 39.0\n",
            "Portugal <=50K 41.94\n",
            "Portugal >50K 41.5\n",
            "Puerto-Rico <=50K 38.47\n",
            "Puerto-Rico >50K 39.42\n",
            "Scotland <=50K 39.44\n",
            "Scotland >50K 46.67\n",
            "South <=50K 40.16\n",
            "South >50K 51.44\n",
            "Taiwan <=50K 33.77\n",
            "Taiwan >50K 46.8\n",
            "Thailand <=50K 42.87\n",
            "Thailand >50K 58.33\n",
            "Trinadad&Tobago <=50K 37.06\n",
            "Trinadad&Tobago >50K 40.0\n",
            "United-States <=50K 38.8\n",
            "United-States >50K 45.51\n",
            "Vietnam <=50K 37.19\n",
            "Vietnam >50K 39.2\n",
            "Yugoslavia <=50K 41.6\n",
            "Yugoslavia >50K 49.5\n"
          ]
        }
      ]
    }
  ],
  "metadata": {
    "anaconda-cloud": {},
    "kernelspec": {
      "display_name": "Python 3",
      "language": "python",
      "name": "python3"
    },
    "language_info": {
      "name": "python",
      "version": "3.6.6",
      "mimetype": "text/x-python",
      "codemirror_mode": {
        "name": "ipython",
        "version": 3
      },
      "pygments_lexer": "ipython3",
      "nbconvert_exporter": "python",
      "file_extension": ".py"
    },
    "colab": {
      "provenance": [],
      "include_colab_link": true
    }
  },
  "nbformat": 4,
  "nbformat_minor": 0
}